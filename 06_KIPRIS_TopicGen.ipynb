{
 "cells": [
  {
   "cell_type": "markdown",
   "metadata": {},
   "source": [
    "#######################################################################\n",
    "<br> ######  Made by: Dr. Keungoui Kim \n",
    "<br> ######  Title: KISDI Megatrend Project - Data Prep 06. Topic Generation\n",
    "<br> ######  goal : Megatrend Tech Analysis\n",
    "<br> ######  Data set: KIPRIS\n",
    "<br> ######  Time Span: \n",
    "<br> ######  Variables\n",
    "<br> ######  Input: \n",
    "<br> ######  Output: \n",
    "<br> ######  Methodology: \n",
    "<br> ######  Time-stamp: \n",
    "<br> ######  Notice :\n",
    "<br> #######################################################################"
   ]
  },
  {
   "cell_type": "code",
   "execution_count": 2,
   "metadata": {},
   "outputs": [
    {
     "name": "stdout",
     "output_type": "stream",
     "text": [
      "cuda:0\n"
     ]
    }
   ],
   "source": [
    "from torch import cuda\n",
    "\n",
    "device = f'cuda:{cuda.current_device()}' if cuda.is_available() else 'cpu'\n",
    "\n",
    "print(device)\n",
    "# conda install pytorch==1.13.0 torchvision==0.14.0 torchaudio==0.13.0 pytorch-cuda=11.7 -c pytorch -c nvidia"
   ]
  },
  {
   "cell_type": "code",
   "execution_count": 3,
   "metadata": {},
   "outputs": [
    {
     "name": "stdout",
     "output_type": "stream",
     "text": [
      "금융투자 및 자산운용 | Financial Investment and Asset Management\n",
      "의료 빅데이터 및 진단 기술 | Medical Big Data and Diagnostic Technology\n",
      "전자상거래 및 소비자 트렌드 | E-commerce and Consumer Trends\n",
      "인공지능 기반 영상 인식 기술 | Artificial Intelligence-based Visual Recognition Technology\n",
      "스마트 모빌리티 | Smart Mobility\n",
      "스마트 디바이스 제어 및 인터페이스 기술 | Smart Device Control and Interface Technology\n",
      "에너지 효율성과 안전성 관리 | Energy Efficiency and Safety Management\n",
      "디지털 정보 및 서비스 트렌드 | Digital Information and Service Trend\n",
      "인공 지능 및 딥 러닝 | Artificial Intelligence and Deep Learning\n",
      "건강 정보 관리의료 혁신 (Healthcare Innovation)\n",
      "智能 물류 서비스 | Smart Logistics Service\n",
      "스마트 모빌리티 | Smart Mobility\n",
      "스마트 디바이스 혜택 확대 | Proliferation of Smart Devices\n",
      "반려 동물 관리 및 가축 산업의 발전 | The Rise of Pet Care and Animal Husbandry Industry\n",
      "개인 정보의 상업적 활용 | Commercial Utilization of Personal Data\n",
      "건강 정보 관리 | Personal Health Informatics\n",
      "디지털 금융 서비스 | Digital Financial Services\n",
      "디지털 정보혁명 | Digital Information Revolution\n"
     ]
    }
   ],
   "source": [
    "import ollama\n",
    "import pandas as pd\n",
    "\n",
    "desiredModel = 'llama3.1:70b' # llama3.2\n",
    "file_list = ['가상화-융합화','자동화-노동 형태 다변화','초개인화-맞춤화','플랫폼의 전방위적 확산']\n",
    "\n",
    "base_prompt = ''' These words are the list of keywords describing Mega-trend derived from topic modelling analysis.\n",
    "Here, Mega-trend indicates a major, long-term, and far-reaching trend that has potential to significantly impact society and economy.\n",
    "Use these Mega Trend related words to generate a significant topic label that summarizes them.  \n",
    "I want only a single topic label written in a following form: <Label in Korean> | <Label in English>.\n",
    "Generate only a topics no extra descriptions.'''\n",
    "\n",
    "for file in file_list:\n",
    "    result_df = pd.read_csv('bertopic_results_'+str(file)+'.csv')\n",
    "    result_df = result_df.loc[result_df.Topic != -1].reset_index()\n",
    "    \n",
    "    temp = []\n",
    "    for i in range(result_df.shape[0]):\n",
    "        prompt = (result_df['Top Words'][i] + base_prompt)\n",
    "        response = ollama.chat(model=desiredModel,\n",
    "                       messages= [{\n",
    "                           'role':'user',\n",
    "                           'content':prompt,}])\n",
    "\n",
    "        OllamaResponse = response['message']['content']\n",
    "        print(OllamaResponse)\n",
    "        \n",
    "        temp.append(OllamaResponse)\n",
    "        \n",
    "    result_df['label'] = temp\n",
    "    result_df.to_csv('bertopic_results_label_'+str(file)+'.csv', index=False, encoding=\"utf-8-sig\")"
   ]
  },
  {
   "cell_type": "code",
   "execution_count": 53,
   "metadata": {},
   "outputs": [
    {
     "name": "stdout",
     "output_type": "stream",
     "text": [
      "['가상', '얼굴', '복수', '영상', '현실', '데이터', '생성', '화상', '이미지', '차원', '공간'] These words are the list of keywords describing Mega-trend derived from topic modelling analysis. \n",
      "                  Here, Mega-trend indicates a major, long-term, and far-reaching trend that has potential to significantly impact society and economy.\n",
      "                  Use these Mega Trend related words to generate a significant topic label that summarizes them.  \n",
      "                  I want only a single topic label written in a following form: <Label in Korean> | <Label in English>.\n",
      "                  No description is needed.\n"
     ]
    }
   ],
   "source": [
    "print(prompt)"
   ]
  }
 ],
 "metadata": {
  "kernelspec": {
   "display_name": "gpuenv",
   "language": "python",
   "name": "gpuenv"
  },
  "language_info": {
   "codemirror_mode": {
    "name": "ipython",
    "version": 3
   },
   "file_extension": ".py",
   "mimetype": "text/x-python",
   "name": "python",
   "nbconvert_exporter": "python",
   "pygments_lexer": "ipython3",
   "version": "3.9.16"
  }
 },
 "nbformat": 4,
 "nbformat_minor": 2
}
